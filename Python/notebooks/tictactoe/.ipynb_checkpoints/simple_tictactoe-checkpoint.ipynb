{
 "cells": [
  {
   "cell_type": "code",
   "execution_count": 21,
   "metadata": {},
   "outputs": [],
   "source": [
    "\n",
    "\n",
    "def display_board(row):\n",
    "    print(row[1] + ' | ' + row[2] + ' | ' + row[3] )\n",
    "    print('----------')\n",
    "    print(row[4] + ' | ' + row[5] + ' | ' + row[6])\n",
    "    print('----------')\n",
    "    print(row[7] + ' | ' + row[8] + ' | ' + row[9])"
   ]
  },
  {
   "cell_type": "code",
   "execution_count": null,
   "metadata": {},
   "outputs": [],
   "source": []
  },
  {
   "cell_type": "code",
   "execution_count": 22,
   "metadata": {},
   "outputs": [],
   "source": [
    "def start(symbol,row):\n",
    "    while symbol not in['X','O']:\n",
    "       symbol =  input(\"Please enter your choice - X or O\").upper()\n",
    "    \n",
    "    print('Current board')\n",
    "    display_board(row)\n",
    "    return symbol\n",
    "    "
   ]
  },
  {
   "cell_type": "code",
   "execution_count": 28,
   "metadata": {},
   "outputs": [],
   "source": [
    "def play():\n",
    "    row = ['#',' ',' ',' ',' ',' ',' ',' ' ,' ',' ']\n",
    "    symbol = 'UNASSIGNED'\n",
    "    symbol = start(symbol,row)\n",
    "    index = int(input('Enter your index'))\n",
    "    \n",
    "    while not check_win(symbol,row) :\n",
    "      \n",
    "                \n",
    "                row[index] = symbol\n",
    "                display_board(row)\n",
    "                if check_win(symbol,row):\n",
    "                    if input('Game over! ' + symbol + ' wins! Do you want to play again? [Y/N]').upper() == 'Y':\n",
    "                       play()\n",
    "                    \n",
    "                    break\n",
    "                    \n",
    "                if symbol != 'UNASSIGNED':\n",
    "                    if symbol == 'X':\n",
    "                        symbol = 'O'\n",
    "                    elif symbol == 'O':\n",
    "                        symbol = 'X'\n",
    "                index = int(input('Enter your index'))\n",
    "                \n",
    "    \n",
    "    \n",
    "        "
   ]
  },
  {
   "cell_type": "code",
   "execution_count": 29,
   "metadata": {},
   "outputs": [],
   "source": [
    "def check_win(marker,row):\n",
    "    return ((row[1]==row[2] and row[2]==row[3] and row[3]==marker) or \n",
    "    (row[4]==row[5] and row[5]==row[6] and row[6]==marker) or \n",
    "    (row[7]==row[8] and row[8]==row[9] and row[9]==marker) or \n",
    "    (row[1]==row[4] and row[4]==row[7] and row[7]==marker) or \n",
    "    (row[2]==row[5] and row[5]==row[8] and row[8]==marker) or\n",
    "    (row[3]==row[6] and row[6]==row[9] and row[9]==marker) or\n",
    "    (row[1]==row[5] and row[5]==row[9] and row[9]==marker) or\n",
    "    (row[3]==row[5] and row[5]==row[7] and row[7]==marker)) \n",
    "    "
   ]
  },
  {
   "cell_type": "code",
   "execution_count": null,
   "metadata": {},
   "outputs": [],
   "source": []
  },
  {
   "cell_type": "code",
   "execution_count": 30,
   "metadata": {},
   "outputs": [
    {
     "name": "stdout",
     "output_type": "stream",
     "text": [
      "Please enter your choice - X or OO\n",
      "Current board\n",
      "  |   |  \n",
      "----------\n",
      "  |   |  \n",
      "----------\n",
      "  |   |  \n",
      "Enter your index1\n",
      "O |   |  \n",
      "----------\n",
      "  |   |  \n",
      "----------\n",
      "  |   |  \n",
      "Enter your index2\n",
      "O | X |  \n",
      "----------\n",
      "  |   |  \n",
      "----------\n",
      "  |   |  \n",
      "Enter your index5\n",
      "O | X |  \n",
      "----------\n",
      "  | O |  \n",
      "----------\n",
      "  |   |  \n",
      "Enter your index3\n",
      "O | X | X\n",
      "----------\n",
      "  | O |  \n",
      "----------\n",
      "  |   |  \n",
      "Enter your index9\n",
      "O | X | X\n",
      "----------\n",
      "  | O |  \n",
      "----------\n",
      "  |   | O\n",
      "Game over! O wins! Do you want to play again? [Y/N]Y\n",
      "Please enter your choice - X or OX\n",
      "Current board\n",
      "  |   |  \n",
      "----------\n",
      "  |   |  \n",
      "----------\n",
      "  |   |  \n",
      "Enter your index1\n",
      "X |   |  \n",
      "----------\n",
      "  |   |  \n",
      "----------\n",
      "  |   |  \n",
      "Enter your index2\n",
      "X | O |  \n",
      "----------\n",
      "  |   |  \n",
      "----------\n",
      "  |   |  \n",
      "Enter your index4\n",
      "X | O |  \n",
      "----------\n",
      "X |   |  \n",
      "----------\n",
      "  |   |  \n",
      "Enter your index5\n",
      "X | O |  \n",
      "----------\n",
      "X | O |  \n",
      "----------\n",
      "  |   |  \n",
      "Enter your index7\n",
      "X | O |  \n",
      "----------\n",
      "X | O |  \n",
      "----------\n",
      "X |   |  \n",
      "Game over! X wins! Do you want to play again? [Y/N]N\n"
     ]
    }
   ],
   "source": [
    "play()"
   ]
  },
  {
   "cell_type": "markdown",
   "metadata": {},
   "source": [
    "###### "
   ]
  },
  {
   "cell_type": "code",
   "execution_count": null,
   "metadata": {},
   "outputs": [],
   "source": []
  },
  {
   "cell_type": "code",
   "execution_count": null,
   "metadata": {},
   "outputs": [],
   "source": []
  }
 ],
 "metadata": {
  "kernelspec": {
   "display_name": "Python 3",
   "language": "python",
   "name": "python3"
  },
  "language_info": {
   "codemirror_mode": {
    "name": "ipython",
    "version": 3
   },
   "file_extension": ".py",
   "mimetype": "text/x-python",
   "name": "python",
   "nbconvert_exporter": "python",
   "pygments_lexer": "ipython3",
   "version": "3.8.3"
  }
 },
 "nbformat": 4,
 "nbformat_minor": 4
}
